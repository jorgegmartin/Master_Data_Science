{
 "cells": [
  {
   "cell_type": "markdown",
   "metadata": {},
   "source": [
    "# Import dependancies"
   ]
  },
  {
   "cell_type": "code",
   "execution_count": 1,
   "metadata": {},
   "outputs": [],
   "source": [
    "import pandas as pd\n",
    "import numpy as np\n",
    "import seaborn as sns\n",
    "import matplotlib.pyplot as plt\n",
    "import bz2"
   ]
  },
  {
   "cell_type": "code",
   "execution_count": null,
   "metadata": {},
   "outputs": [],
   "source": [
    "\n",
    "bookings_path = r'C:\\Users\\Usuario\\Desktop\\Master DATA SCIENCE\\00_github_notebooks\\Notebooks Apuntes\\data\\challenge\\bookings.csv.bz2'\n",
    "searches_path = r'C:\\Users\\Usuario\\Desktop\\Master DATA SCIENCE\\00_github_notebooks\\Notebooks Apuntes\\data\\challenge\\searches.csv.bz2'\n",
    "\n",
    "zip_file = bz2.BZ2File(bookings_path, 'r')\n",
    "df = zip_file.read()\n",
    "df"
   ]
  },
  {
   "cell_type": "code",
   "execution_count": 7,
   "metadata": {},
   "outputs": [],
   "source": [
    "with bz2.BZ2File(bookings_path) as f:\n",
    "    # Decompress data from file\n",
    "    content = f.read()"
   ]
  },
  {
   "cell_type": "code",
   "execution_count": 5,
   "metadata": {},
   "outputs": [
    {
     "name": "stderr",
     "output_type": "stream",
     "text": [
      "<ipython-input-5-b5baa44d6dc9>:2: ParserWarning: Falling back to the 'python' engine because the 'c' engine does not support regex separators (separators > 1 char and different from '\\s+' are interpreted as regex); you can avoid this warning by specifying engine='python'.\n",
      "  temp = pd.read_csv(bookings_path, sep='delimiter', header=None).head(10000)\n"
     ]
    }
   ],
   "source": [
    "bookings_path = r'C:\\Users\\Usuario\\Desktop\\Master DATA SCIENCE\\data\\challenge\\bookings.csv'\n",
    "temp = pd.read_csv(bookings_path, sep='delimiter', header=None).head(10000)\n",
    "temp.to_csv('sample.csv', index=False)"
   ]
  },
  {
   "cell_type": "code",
   "execution_count": 2,
   "metadata": {},
   "outputs": [
    {
     "name": "stderr",
     "output_type": "stream",
     "text": [
      "\"bzcat\" no se reconoce como un comando interno o externo,\n",
      "programa o archivo por lotes ejecutable.\n"
     ]
    }
   ],
   "source": [
    "#en linux para abrir el archivo\n",
    "!bzcat ./challenge/bookings.csv.bz2 | head -10000 > bookings.sample.csv"
   ]
  },
  {
   "cell_type": "code",
   "execution_count": 96,
   "metadata": {},
   "outputs": [],
   "source": [
    "bookings_path = r'./sample.csv.bz2'\n",
    "df = pd.read_csv(bookings_path, compression='bz2', sep= '^', header=1, usecols=['arr_port', 'pax', 'year'], nrows = 100000)"
   ]
  },
  {
   "cell_type": "code",
   "execution_count": 97,
   "metadata": {},
   "outputs": [
    {
     "data": {
      "text/plain": [
       "Index(['arr_port', 'pax', 'year'], dtype='object')"
      ]
     },
     "execution_count": 97,
     "metadata": {},
     "output_type": "execute_result"
    }
   ],
   "source": [
    "df.columns"
   ]
  },
  {
   "cell_type": "code",
   "execution_count": 48,
   "metadata": {},
   "outputs": [],
   "source": [
    "df.columns = [col.strip() for col in df.columns]"
   ]
  },
  {
   "cell_type": "code",
   "execution_count": 56,
   "metadata": {},
   "outputs": [],
   "source": [
    "df.loc[:,'arr_port'] = df['arr_port'].str.strip()"
   ]
  },
  {
   "cell_type": "code",
   "execution_count": 52,
   "metadata": {},
   "outputs": [],
   "source": [
    "new_cols = {}\n",
    "for col in df.columns:\n",
    "    new_cols[col] = col.strip()\n",
    "df = df.rename(new_cols, axis=1)"
   ]
  },
  {
   "cell_type": "markdown",
   "metadata": {},
   "source": []
  },
  {
   "cell_type": "code",
   "execution_count": 121,
   "metadata": {},
   "outputs": [],
   "source": [
    "bookings_path = r'C:/Users/Usuario/Desktop/Master DATA SCIENCE/00_github_notebooks/Notebooks Apuntes/data/challenge/bookings.csv.bz2'\n",
    "df_big = pd.read_csv(\n",
    "                     bookings_path,\n",
    "                     compression='bz2', \n",
    "                     sep= '^', \n",
    "                     header=0, \n",
    "                     usecols=['arr_port', 'pax', 'year'], \n",
    "                     #nrows = 100000\n",
    "                     chunksize=100_000 # con este parametro se convierte en un iterador\n",
    "                    )"
   ]
  },
  {
   "cell_type": "code",
   "execution_count": 122,
   "metadata": {},
   "outputs": [
    {
     "name": "stdout",
     "output_type": "stream",
     "text": [
      "100000\n"
     ]
    }
   ],
   "source": [
    "with pd.read_csv(\n",
    "                     bookings_path,\n",
    "                     compression='bz2', \n",
    "                     sep= '^', \n",
    "                     header=0, \n",
    "                     usecols=['arr_port', 'pax', 'year'], \n",
    "                     #nrows = 100000\n",
    "                     chunksize=100_000 # con este parametro se convierte en un iterador\n",
    "                    ) as df_iter:\n",
    "                    for chunk in df_big:\n",
    "                        print(len(chunk))\n",
    "                        break\n"
   ]
  },
  {
   "cell_type": "code",
   "execution_count": null,
   "metadata": {},
   "outputs": [],
   "source": []
  },
  {
   "cell_type": "code",
   "execution_count": 124,
   "metadata": {},
   "outputs": [
    {
     "name": "stdout",
     "output_type": "stream",
     "text": [
      "        arr_port  pax  year\n",
      "200000  DFW         5  2013\n",
      "200001  DFW        -5  2013\n",
      "200002  DFW         5  2013\n",
      "200003  DFW        -5  2013\n",
      "200004  DFW         5  2013\n",
      "200005  DFW         1  2013\n",
      "200006  DFW         1  2013\n",
      "200007  DFW        -1  2013\n",
      "200008  PNH         1  2013\n",
      "200009  PNH        -1  2013\n"
     ]
    }
   ],
   "source": [
    "df_iter = pd.read_csv(\n",
    "                     bookings_path,\n",
    "                     compression='bz2', \n",
    "                     sep= '^', \n",
    "                     header=0, \n",
    "                     usecols=['arr_port', 'pax', 'year'], \n",
    "                     nrows = 100_000\n",
    "                     chunksize=10_000 # con este parametro se convierte en un iterador\n",
    "                    ) \n",
    "for chunk in df_big:\n",
    "    print(chunk.head(10))\n",
    "    break\n"
   ]
  },
  {
   "cell_type": "code",
   "execution_count": 106,
   "metadata": {},
   "outputs": [],
   "source": [
    "df_big.loc[:,'arr_port'] = df_big['arr_port'].str.strip()\n"
   ]
  },
  {
   "cell_type": "code",
   "execution_count": 118,
   "metadata": {},
   "outputs": [
    {
     "data": {
      "text/html": [
       "<div>\n",
       "<style scoped>\n",
       "    .dataframe tbody tr th:only-of-type {\n",
       "        vertical-align: middle;\n",
       "    }\n",
       "\n",
       "    .dataframe tbody tr th {\n",
       "        vertical-align: top;\n",
       "    }\n",
       "\n",
       "    .dataframe thead th {\n",
       "        text-align: right;\n",
       "    }\n",
       "</style>\n",
       "<table border=\"1\" class=\"dataframe\">\n",
       "  <thead>\n",
       "    <tr style=\"text-align: right;\">\n",
       "      <th></th>\n",
       "      <th>arr_port</th>\n",
       "      <th>pax</th>\n",
       "    </tr>\n",
       "  </thead>\n",
       "  <tbody>\n",
       "    <tr>\n",
       "      <th>733</th>\n",
       "      <td>LHR</td>\n",
       "      <td>1006</td>\n",
       "    </tr>\n",
       "    <tr>\n",
       "      <th>798</th>\n",
       "      <td>MCO</td>\n",
       "      <td>861</td>\n",
       "    </tr>\n",
       "    <tr>\n",
       "      <th>620</th>\n",
       "      <td>JFK</td>\n",
       "      <td>795</td>\n",
       "    </tr>\n",
       "    <tr>\n",
       "      <th>706</th>\n",
       "      <td>LAX</td>\n",
       "      <td>761</td>\n",
       "    </tr>\n",
       "    <tr>\n",
       "      <th>156</th>\n",
       "      <td>BKK</td>\n",
       "      <td>747</td>\n",
       "    </tr>\n",
       "    <tr>\n",
       "      <th>704</th>\n",
       "      <td>LAS</td>\n",
       "      <td>732</td>\n",
       "    </tr>\n",
       "    <tr>\n",
       "      <th>1159</th>\n",
       "      <td>SFO</td>\n",
       "      <td>705</td>\n",
       "    </tr>\n",
       "    <tr>\n",
       "      <th>957</th>\n",
       "      <td>ORD</td>\n",
       "      <td>686</td>\n",
       "    </tr>\n",
       "    <tr>\n",
       "      <th>232</th>\n",
       "      <td>CDG</td>\n",
       "      <td>676</td>\n",
       "    </tr>\n",
       "    <tr>\n",
       "      <th>366</th>\n",
       "      <td>DXB</td>\n",
       "      <td>587</td>\n",
       "    </tr>\n",
       "  </tbody>\n",
       "</table>\n",
       "</div>"
      ],
      "text/plain": [
       "     arr_port   pax\n",
       "733       LHR  1006\n",
       "798       MCO   861\n",
       "620       JFK   795\n",
       "706       LAX   761\n",
       "156       BKK   747\n",
       "704       LAS   732\n",
       "1159      SFO   705\n",
       "957       ORD   686\n",
       "232       CDG   676\n",
       "366       DXB   587"
      ]
     },
     "execution_count": 118,
     "metadata": {},
     "output_type": "execute_result"
    }
   ],
   "source": [
    "df_big.groupby('arr_port')['pax'].sum().reset_index().sort_values(by='pax', ascending=False).head(10)"
   ]
  },
  {
   "cell_type": "code",
   "execution_count": null,
   "metadata": {},
   "outputs": [],
   "source": []
  },
  {
   "cell_type": "markdown",
   "metadata": {},
   "source": [
    "https://pypi.org/project/GeoBases/"
   ]
  },
  {
   "cell_type": "code",
   "execution_count": null,
   "metadata": {},
   "outputs": [],
   "source": [
    "''' \n",
    "zip_file = bz2.open(searches_path)\n",
    "csv_file_reference = zip_file.read(zip_file)\n",
    "searches = pd.read_csv(csv_file_reference)\n",
    "'''"
   ]
  },
  {
   "cell_type": "markdown",
   "metadata": {},
   "source": [
    "# Explore the data available"
   ]
  },
  {
   "cell_type": "code",
   "execution_count": 29,
   "metadata": {},
   "outputs": [
    {
     "data": {
      "text/plain": [
       "<bz2.BZ2File at 0x2722f8ca580>"
      ]
     },
     "execution_count": 29,
     "metadata": {},
     "output_type": "execute_result"
    }
   ],
   "source": [
    "zip_file"
   ]
  },
  {
   "cell_type": "markdown",
   "metadata": {},
   "source": [
    "# Exercise 1\n",
    "\n",
    "Count the number of lines in python for each file"
   ]
  },
  {
   "cell_type": "code",
   "execution_count": null,
   "metadata": {},
   "outputs": [],
   "source": []
  },
  {
   "cell_type": "markdown",
   "metadata": {},
   "source": [
    "# Exercise 2\n",
    "\n",
    "Top 10 arrival airports in the world in 2013 (using the bookings file)\n",
    "\n",
    "• Arrival airport is the column arr_port. It is the IATA code for the airport\n",
    "\n",
    "• To get the total number of passengers for an airport, you can sum the column\n",
    "pax, grouping by arr_port. Note that there is negative pax. That corresponds to\n",
    "cancelations. So to get the total number of passengers that have actually\n",
    "booked, you should sum including the negatives (that will remove the canceled\n",
    "bookings).\n",
    "\n",
    "• Print the top 10 arrival airports in the standard output, including the number of\n",
    "passengers.\n",
    "\n",
    "• Bonus point: Get the name of the city or airport corresponding to that airport\n",
    "(programatically, we suggest to have a look at GeoBases in Github)\n",
    "\n",
    "• Bonus point: Solve this problem using pandas (instead of any other approach)"
   ]
  },
  {
   "cell_type": "code",
   "execution_count": null,
   "metadata": {},
   "outputs": [],
   "source": []
  },
  {
   "cell_type": "markdown",
   "metadata": {},
   "source": [
    "# Exercise 3\n",
    "\n",
    "Plot the monthly number of searches for flights arriving at Málaga, Madrid or Barcelona\n",
    "\n",
    "• For the arriving airport, you can use the\n",
    "Destination column in the searches file.\n",
    "\n",
    "• Plot a curve for Málaga, another one for\n",
    "Madrid, and another one for Barcelona, in\n",
    "the same figure.\n",
    "\n",
    "• Bonus point: Solving this problem using\n",
    "pandas (instead of any other approach)"
   ]
  },
  {
   "cell_type": "code",
   "execution_count": null,
   "metadata": {},
   "outputs": [],
   "source": []
  },
  {
   "cell_type": "markdown",
   "metadata": {},
   "source": [
    "# Exercise 4\n",
    "Match searches with bookings\n",
    "\n",
    "• For every search in the searches file, find out whether\n",
    "the search ended up in a booking or not (using the info\n",
    "in the bookings file). For instance, search and booking\n",
    "origin and destination should match.\n",
    "\n",
    "• For the bookings file, origin and destination are the\n",
    "columns dep_port and arr_port, respectively.\n",
    "\n",
    "• Generate a CSV file with the search data, and an\n",
    "additional field, containing 1 if the search ended up in\n",
    "a booking, and 0 otherwise."
   ]
  },
  {
   "cell_type": "code",
   "execution_count": null,
   "metadata": {},
   "outputs": [],
   "source": []
  },
  {
   "cell_type": "markdown",
   "metadata": {},
   "source": [
    "# Exercise 5\n",
    "\n",
    "Write a Web Service\n",
    "\n",
    "• Wrap the output of the second exercise in a\n",
    "web service that returns the data in JSON\n",
    "format (instead of printing to the standard\n",
    "output).\n",
    "\n",
    "• The web service should accept a parameter\n",
    "n>0. For the top 10 airports, n is 10. For the X\n",
    "top airports, n is X "
   ]
  },
  {
   "cell_type": "markdown",
   "metadata": {},
   "source": []
  }
 ],
 "metadata": {
  "interpreter": {
   "hash": "ad2bdc8ecc057115af97d19610ffacc2b4e99fae6737bb82f5d7fb13d2f2c186"
  },
  "kernelspec": {
   "display_name": "Python 3.8.5 ('base')",
   "language": "python",
   "name": "python3"
  },
  "language_info": {
   "codemirror_mode": {
    "name": "ipython",
    "version": 3
   },
   "file_extension": ".py",
   "mimetype": "text/x-python",
   "name": "python",
   "nbconvert_exporter": "python",
   "pygments_lexer": "ipython3",
   "version": "3.8.5"
  },
  "orig_nbformat": 4
 },
 "nbformat": 4,
 "nbformat_minor": 2
}
