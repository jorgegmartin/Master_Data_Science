{
 "cells": [
  {
   "cell_type": "markdown",
   "metadata": {},
   "source": [
    "# Import dependancies"
   ]
  },
  {
   "cell_type": "code",
   "execution_count": 1,
   "metadata": {},
   "outputs": [],
   "source": [
    "import pandas as pd\n",
    "import numpy as np\n",
    "import seaborn as sns\n",
    "import matplotlib.pyplot as plt\n",
    "import bz2\n",
    "\n",
    "import neobase as nb\n",
    "\n",
    "import os\n",
    "os.environ[\"KMP_DUPLICATE_LIB_OK\"]=\"TRUE\""
   ]
  },
  {
   "cell_type": "code",
   "execution_count": 2,
   "metadata": {},
   "outputs": [],
   "source": [
    "# windows file paths\n",
    "#bookings_path = r'../../../data/challenge/bookings.csv.bz2'\n",
    "#searches_path = r'../../../data/challenge/searches.csv.bz2'\n",
    "# linux file paths\n",
    "bookings_path = '../../data/challenge/bookings.csv.bz2'\n",
    "searches_path = '../../data/challenge/searches.csv.bz2'"
   ]
  },
  {
   "cell_type": "markdown",
   "metadata": {},
   "source": [
    "Since bookings file is 4.4Gb, we could use a sample to explore the data."
   ]
  },
  {
   "cell_type": "code",
   "execution_count": 3,
   "metadata": {},
   "outputs": [],
   "source": [
    "sample = pd.read_csv(bookings_path, compression='bz2', sep= '^', header=0, nrows = 100_000)\n",
    "sample.to_csv('../../data/challenge/sample.csv', index=False)"
   ]
  },
  {
   "cell_type": "markdown",
   "metadata": {},
   "source": [
    "# Explore the data available"
   ]
  },
  {
   "cell_type": "code",
   "execution_count": 4,
   "metadata": {},
   "outputs": [
    {
     "data": {
      "text/plain": [
       "Index(['act_date           ', 'source', 'pos_ctry', 'pos_iata', 'pos_oid  ',\n",
       "       'rloc          ', 'cre_date           ', 'duration', 'distance',\n",
       "       'dep_port', 'dep_city', 'dep_ctry', 'arr_port', 'arr_city', 'arr_ctry',\n",
       "       'lst_port', 'lst_city', 'lst_ctry', 'brd_port', 'brd_city', 'brd_ctry',\n",
       "       'off_port', 'off_city', 'off_ctry', 'mkt_port', 'mkt_city', 'mkt_ctry',\n",
       "       'intl', 'route          ', 'carrier', 'bkg_class', 'cab_class',\n",
       "       'brd_time           ', 'off_time           ', 'pax', 'year', 'month',\n",
       "       'oid      '],\n",
       "      dtype='object')"
      ]
     },
     "execution_count": 4,
     "metadata": {},
     "output_type": "execute_result"
    }
   ],
   "source": [
    "sample_path = '../../data/challenge/sample.csv'\n",
    "sample = pd.read_csv(sample_path)\n",
    "sample.columns"
   ]
  },
  {
   "cell_type": "markdown",
   "metadata": {},
   "source": [
    "Some columns seem to have a indefinite amount of white spaces."
   ]
  },
  {
   "cell_type": "code",
   "execution_count": 5,
   "metadata": {},
   "outputs": [
    {
     "data": {
      "text/plain": [
       "Index(['act_date', 'source', 'pos_ctry', 'pos_iata', 'pos_oid', 'rloc',\n",
       "       'cre_date', 'duration', 'distance', 'dep_port', 'dep_city', 'dep_ctry',\n",
       "       'arr_port', 'arr_city', 'arr_ctry', 'lst_port', 'lst_city', 'lst_ctry',\n",
       "       'brd_port', 'brd_city', 'brd_ctry', 'off_port', 'off_city', 'off_ctry',\n",
       "       'mkt_port', 'mkt_city', 'mkt_ctry', 'intl', 'route', 'carrier',\n",
       "       'bkg_class', 'cab_class', 'brd_time', 'off_time', 'pax', 'year',\n",
       "       'month', 'oid'],\n",
       "      dtype='object')"
      ]
     },
     "execution_count": 5,
     "metadata": {},
     "output_type": "execute_result"
    }
   ],
   "source": [
    "sample.columns = [col.strip() for col in sample.columns]\n",
    "sample.columns"
   ]
  },
  {
   "cell_type": "markdown",
   "metadata": {},
   "source": [
    "We could also get rid of he spaces in some columns using loc"
   ]
  },
  {
   "cell_type": "code",
   "execution_count": 6,
   "metadata": {},
   "outputs": [],
   "source": [
    "sample.loc[:,'arr_port'] = sample['arr_port'].str.strip()"
   ]
  },
  {
   "cell_type": "markdown",
   "metadata": {},
   "source": [
    "Or we could rename all columns using a dictionary."
   ]
  },
  {
   "cell_type": "code",
   "execution_count": 7,
   "metadata": {},
   "outputs": [],
   "source": [
    "new_cols = {}\n",
    "for col in sample.columns:\n",
    "    new_cols[col] = col.strip()\n",
    "sample = sample.rename(new_cols, axis=1)"
   ]
  },
  {
   "cell_type": "markdown",
   "metadata": {},
   "source": [
    "# Exercise 1\n",
    "\n",
    "Count the number of lines in python for each file"
   ]
  },
  {
   "cell_type": "markdown",
   "metadata": {},
   "source": [
    "In order to do it as fast as possible we can select one column to count all lines."
   ]
  },
  {
   "cell_type": "markdown",
   "metadata": {},
   "source": [
    "bookings_lenght = len(pd.read_csv(\n",
    "                                  bookings_path,\n",
    "                                  compression='bz2', \n",
    "                                  sep= '^', \n",
    "                                  header=0, \n",
    "                                  usecols=['pax'], \n",
    "                                  ))\n",
    "print(f'Bookings.csv has {bookings_lenght} lines.')"
   ]
  },
  {
   "cell_type": "markdown",
   "metadata": {},
   "source": [
    "searches = pd.read_csv(\n",
    "                       searches_path,\n",
    "                       compression='bz2', \n",
    "                       sep= '^', \n",
    "                       header=0,\n",
    "                       nrows=10\n",
    "                       )\n",
    "searches.columns"
   ]
  },
  {
   "cell_type": "markdown",
   "metadata": {},
   "source": [
    "searches_lenght = len(pd.read_csv(\n",
    "                                searches_path,\n",
    "                                compression='bz2', \n",
    "                                sep= '^', \n",
    "                                header=0, \n",
    "                                usecols=['Date'],\n",
    "                                ))\n",
    "print(f'searches.csv has {searches_lenght} lines.')"
   ]
  },
  {
   "cell_type": "markdown",
   "metadata": {},
   "source": [
    "# Exercise 2\n",
    "\n",
    "Top 10 arrival airports in the world in 2013 (using the bookings file)\n",
    "\n",
    "• Arrival airport is the column **arr_port**. It is the IATA code for the airport\n",
    "\n",
    "• To get the total number of passengers for an airport, you can *sum* the column\n",
    "**pax**, grouping by **arr_port**. Note that there is negative pax. That corresponds to\n",
    "cancelations. So to get the total number of passengers that have actually\n",
    "booked, you should sum including the negatives (that will remove the canceled\n",
    "bookings).\n",
    "\n",
    "• Print the top 10 arrival airports in the standard output, including the number of\n",
    "passengers.\n",
    "\n",
    "• Bonus point: Get the name of the city or airport corresponding to that airport\n",
    "(programatically, we suggest to have a look at GeoBases in Github)\n",
    "\n",
    "• Bonus point: Solve this problem using pandas (instead of any other approach)"
   ]
  },
  {
   "cell_type": "code",
   "execution_count": 8,
   "metadata": {},
   "outputs": [],
   "source": [
    "df_full = pd.read_csv(\n",
    "                     bookings_path,\n",
    "                     compression='bz2', \n",
    "                     sep= '^', \n",
    "                     header=0, \n",
    "                     usecols=['arr_port', 'pax', 'year'], \n",
    "                     #nrows = 100000\n",
    "                     chunksize=100_000 # con este parametro se convierte en un iterador\n",
    "                    )"
   ]
  },
  {
   "cell_type": "markdown",
   "metadata": {},
   "source": [
    "We load the dataset using chunks."
   ]
  },
  {
   "cell_type": "code",
   "execution_count": 9,
   "metadata": {},
   "outputs": [],
   "source": [
    "top_airports = []\n",
    "with df_full as df_iter:\n",
    "    for chunk in df_full:\n",
    "        top_chunk = chunk.groupby('arr_port')['pax'].sum().reset_index().sort_values(by='pax', ascending=False)\n",
    "        top_airports.append(top_chunk)\n",
    "\n",
    "top = pd.concat(top_airports, axis= 0)\n",
    "\n",
    "top_10_arrival = top.groupby('arr_port').sum().sort_values(by='pax', ascending=False).head(10).copy()"
   ]
  },
  {
   "cell_type": "markdown",
   "metadata": {},
   "source": [
    "We loop through the data and extract the top airports by passengers. "
   ]
  },
  {
   "cell_type": "markdown",
   "metadata": {},
   "source": [
    "https://pypi.org/project/GeoBases/"
   ]
  },
  {
   "cell_type": "code",
   "execution_count": 10,
   "metadata": {},
   "outputs": [
    {
     "data": {
      "text/plain": [
       "Index(['LHR     ', 'MCO     ', 'LAX     ', 'LAS     ', 'JFK     ', 'CDG     ',\n",
       "       'BKK     ', 'MIA     ', 'SFO     ', 'DXB     '],\n",
       "      dtype='object', name='arr_port')"
      ]
     },
     "execution_count": 10,
     "metadata": {},
     "output_type": "execute_result"
    }
   ],
   "source": [
    "top_10_arrival.index"
   ]
  },
  {
   "cell_type": "markdown",
   "metadata": {},
   "source": [
    "IATA codes are also spelled with spaces so we have to take them out before proceeding."
   ]
  },
  {
   "cell_type": "code",
   "execution_count": 16,
   "metadata": {},
   "outputs": [],
   "source": [
    "top_10_arrival.index = [ind.strip() for ind in top_10_arrival.index]"
   ]
  },
  {
   "cell_type": "code",
   "execution_count": 21,
   "metadata": {},
   "outputs": [
    {
     "name": "stderr",
     "output_type": "stream",
     "text": [
      "/tmp/ipykernel_7962/3583124350.py:3: SettingWithCopyWarning: \n",
      "A value is trying to be set on a copy of a slice from a DataFrame\n",
      "\n",
      "See the caveats in the documentation: https://pandas.pydata.org/pandas-docs/stable/user_guide/indexing.html#returning-a-view-versus-a-copy\n",
      "  top_10_arrival['city_name'][i] = b.get(i, 'name')\n"
     ]
    }
   ],
   "source": [
    "b = nb.NeoBase()\n",
    "for i in top_10_arrival.index:\n",
    "    top_10_arrival['city_name'][i] = b.get(i, 'name')"
   ]
  },
  {
   "cell_type": "code",
   "execution_count": 22,
   "metadata": {},
   "outputs": [
    {
     "data": {
      "text/html": [
       "<div>\n",
       "<style scoped>\n",
       "    .dataframe tbody tr th:only-of-type {\n",
       "        vertical-align: middle;\n",
       "    }\n",
       "\n",
       "    .dataframe tbody tr th {\n",
       "        vertical-align: top;\n",
       "    }\n",
       "\n",
       "    .dataframe thead th {\n",
       "        text-align: right;\n",
       "    }\n",
       "</style>\n",
       "<table border=\"1\" class=\"dataframe\">\n",
       "  <thead>\n",
       "    <tr style=\"text-align: right;\">\n",
       "      <th></th>\n",
       "      <th>pax</th>\n",
       "      <th>city_name</th>\n",
       "    </tr>\n",
       "  </thead>\n",
       "  <tbody>\n",
       "    <tr>\n",
       "      <th>LHR</th>\n",
       "      <td>88809.0</td>\n",
       "      <td>London Heathrow Airport</td>\n",
       "    </tr>\n",
       "    <tr>\n",
       "      <th>MCO</th>\n",
       "      <td>70930.0</td>\n",
       "      <td>Orlando International Airport</td>\n",
       "    </tr>\n",
       "    <tr>\n",
       "      <th>LAX</th>\n",
       "      <td>70530.0</td>\n",
       "      <td>Los Angeles International Airport</td>\n",
       "    </tr>\n",
       "    <tr>\n",
       "      <th>LAS</th>\n",
       "      <td>69630.0</td>\n",
       "      <td>McCarran International Airport</td>\n",
       "    </tr>\n",
       "    <tr>\n",
       "      <th>JFK</th>\n",
       "      <td>66270.0</td>\n",
       "      <td>John F. Kennedy International Airport</td>\n",
       "    </tr>\n",
       "    <tr>\n",
       "      <th>CDG</th>\n",
       "      <td>64490.0</td>\n",
       "      <td>Paris Charles de Gaulle Airport</td>\n",
       "    </tr>\n",
       "    <tr>\n",
       "      <th>BKK</th>\n",
       "      <td>59460.0</td>\n",
       "      <td>Suvarnabhumi Airport</td>\n",
       "    </tr>\n",
       "    <tr>\n",
       "      <th>MIA</th>\n",
       "      <td>58150.0</td>\n",
       "      <td>Miami International Airport</td>\n",
       "    </tr>\n",
       "    <tr>\n",
       "      <th>SFO</th>\n",
       "      <td>58000.0</td>\n",
       "      <td>San Francisco International Airport</td>\n",
       "    </tr>\n",
       "    <tr>\n",
       "      <th>DXB</th>\n",
       "      <td>55590.0</td>\n",
       "      <td>Dubai International Airport</td>\n",
       "    </tr>\n",
       "  </tbody>\n",
       "</table>\n",
       "</div>"
      ],
      "text/plain": [
       "         pax                              city_name\n",
       "LHR  88809.0                London Heathrow Airport\n",
       "MCO  70930.0          Orlando International Airport\n",
       "LAX  70530.0      Los Angeles International Airport\n",
       "LAS  69630.0         McCarran International Airport\n",
       "JFK  66270.0  John F. Kennedy International Airport\n",
       "CDG  64490.0        Paris Charles de Gaulle Airport\n",
       "BKK  59460.0                   Suvarnabhumi Airport\n",
       "MIA  58150.0            Miami International Airport\n",
       "SFO  58000.0    San Francisco International Airport\n",
       "DXB  55590.0            Dubai International Airport"
      ]
     },
     "execution_count": 22,
     "metadata": {},
     "output_type": "execute_result"
    }
   ],
   "source": [
    "top_10_arrival"
   ]
  },
  {
   "cell_type": "markdown",
   "metadata": {},
   "source": [
    "# Exercise 3\n",
    "\n",
    "Plot the monthly number of searches for flights arriving at Málaga, Madrid or Barcelona\n",
    "\n",
    "• For the arriving airport, you can use the\n",
    "Destination column in the searches file.\n",
    "\n",
    "• Plot a curve for Málaga, another one for\n",
    "Madrid, and another one for Barcelona, in\n",
    "the same figure.\n",
    "\n",
    "• Bonus point: Solving this problem using\n",
    "pandas (instead of any other approach)"
   ]
  },
  {
   "cell_type": "code",
   "execution_count": 23,
   "metadata": {},
   "outputs": [
    {
     "data": {
      "text/plain": [
       "Index(['Date', 'Origin', 'Destination'], dtype='object')"
      ]
     },
     "execution_count": 23,
     "metadata": {},
     "output_type": "execute_result"
    }
   ],
   "source": [
    "sample_search = pd.read_csv(\n",
    "                            searches_path, \n",
    "                            compression='bz2', \n",
    "                            sep= '^', \n",
    "                            usecols=['Date', 'Destination', 'Origin'],\n",
    "                            header=0, \n",
    "                            nrows = 100_000\n",
    "\n",
    "                            )\n",
    "\n",
    "sample_search.to_csv('../../data/challenge/sample.csv', index=False)\n",
    "sample_search.columns"
   ]
  },
  {
   "cell_type": "code",
   "execution_count": 27,
   "metadata": {},
   "outputs": [],
   "source": [
    "from datetime import datetime\n",
    "\n",
    "sample_search['Date_new'] = pd.to_datetime(sample_search['Date']).dt.to_period('M')\n",
    "sample_search.drop('Date', axis=1, inplace=True)\n"
   ]
  },
  {
   "cell_type": "code",
   "execution_count": 28,
   "metadata": {},
   "outputs": [
    {
     "data": {
      "text/html": [
       "<div>\n",
       "<style scoped>\n",
       "    .dataframe tbody tr th:only-of-type {\n",
       "        vertical-align: middle;\n",
       "    }\n",
       "\n",
       "    .dataframe tbody tr th {\n",
       "        vertical-align: top;\n",
       "    }\n",
       "\n",
       "    .dataframe thead th {\n",
       "        text-align: right;\n",
       "    }\n",
       "</style>\n",
       "<table border=\"1\" class=\"dataframe\">\n",
       "  <thead>\n",
       "    <tr style=\"text-align: right;\">\n",
       "      <th></th>\n",
       "      <th>Origin</th>\n",
       "      <th>Destination</th>\n",
       "      <th>Date_new</th>\n",
       "    </tr>\n",
       "  </thead>\n",
       "  <tbody>\n",
       "    <tr>\n",
       "      <th>0</th>\n",
       "      <td>TXL</td>\n",
       "      <td>AUH</td>\n",
       "      <td>2013-01</td>\n",
       "    </tr>\n",
       "    <tr>\n",
       "      <th>1</th>\n",
       "      <td>ATH</td>\n",
       "      <td>MIL</td>\n",
       "      <td>2013-01</td>\n",
       "    </tr>\n",
       "    <tr>\n",
       "      <th>2</th>\n",
       "      <td>ICT</td>\n",
       "      <td>SFO</td>\n",
       "      <td>2013-01</td>\n",
       "    </tr>\n",
       "    <tr>\n",
       "      <th>3</th>\n",
       "      <td>RNB</td>\n",
       "      <td>ARN</td>\n",
       "      <td>2013-01</td>\n",
       "    </tr>\n",
       "    <tr>\n",
       "      <th>4</th>\n",
       "      <td>OSL</td>\n",
       "      <td>MAD</td>\n",
       "      <td>2013-01</td>\n",
       "    </tr>\n",
       "    <tr>\n",
       "      <th>...</th>\n",
       "      <td>...</td>\n",
       "      <td>...</td>\n",
       "      <td>...</td>\n",
       "    </tr>\n",
       "    <tr>\n",
       "      <th>99995</th>\n",
       "      <td>DEL</td>\n",
       "      <td>TRV</td>\n",
       "      <td>2013-04</td>\n",
       "    </tr>\n",
       "    <tr>\n",
       "      <th>99996</th>\n",
       "      <td>BUF</td>\n",
       "      <td>AUA</td>\n",
       "      <td>2013-04</td>\n",
       "    </tr>\n",
       "    <tr>\n",
       "      <th>99997</th>\n",
       "      <td>JFK</td>\n",
       "      <td>KUL</td>\n",
       "      <td>2013-04</td>\n",
       "    </tr>\n",
       "    <tr>\n",
       "      <th>99998</th>\n",
       "      <td>STL</td>\n",
       "      <td>SEA</td>\n",
       "      <td>2013-04</td>\n",
       "    </tr>\n",
       "    <tr>\n",
       "      <th>99999</th>\n",
       "      <td>MUC</td>\n",
       "      <td>HAM</td>\n",
       "      <td>2013-04</td>\n",
       "    </tr>\n",
       "  </tbody>\n",
       "</table>\n",
       "<p>100000 rows × 3 columns</p>\n",
       "</div>"
      ],
      "text/plain": [
       "      Origin Destination Date_new\n",
       "0        TXL         AUH  2013-01\n",
       "1        ATH         MIL  2013-01\n",
       "2        ICT         SFO  2013-01\n",
       "3        RNB         ARN  2013-01\n",
       "4        OSL         MAD  2013-01\n",
       "...      ...         ...      ...\n",
       "99995    DEL         TRV  2013-04\n",
       "99996    BUF         AUA  2013-04\n",
       "99997    JFK         KUL  2013-04\n",
       "99998    STL         SEA  2013-04\n",
       "99999    MUC         HAM  2013-04\n",
       "\n",
       "[100000 rows x 3 columns]"
      ]
     },
     "execution_count": 28,
     "metadata": {},
     "output_type": "execute_result"
    }
   ],
   "source": [
    "sample_search"
   ]
  },
  {
   "cell_type": "code",
   "execution_count": 71,
   "metadata": {},
   "outputs": [],
   "source": [
    "df_search = pd.read_csv(\n",
    "                        searches_path, \n",
    "                        compression='bz2', \n",
    "                        sep= '[,,^]', \n",
    "                        usecols=['Date', 'Destination', 'Origin'],\n",
    "                        header=0, \n",
    "                        #nrows = 100_000,\n",
    "                        chunksize=100_000\n",
    "                        )"
   ]
  },
  {
   "cell_type": "code",
   "execution_count": 72,
   "metadata": {},
   "outputs": [
    {
     "data": {
      "text/plain": [
       "<pandas.io.parsers.readers.TextFileReader at 0x7f0169c46eb0>"
      ]
     },
     "execution_count": 72,
     "metadata": {},
     "output_type": "execute_result"
    }
   ],
   "source": [
    "df_search"
   ]
  },
  {
   "cell_type": "code",
   "execution_count": 47,
   "metadata": {},
   "outputs": [],
   "source": [
    "MBM_searches = []\n",
    "df_search['Date'] = pd.to_datetime(df_search['Date'])\n",
    "df_search['Date_new'] = df_search['Date'].dt.to_period('M')\n",
    "df_search.drop('Date', axis=1, inplace=True)\n",
    "df_search = df_search[(df_search['Destination'].isin(['MAD','BCN', 'AGP']))]\n",
    "        \n",
    "MBM_searches.append(df_search)"
   ]
  },
  {
   "cell_type": "code",
   "execution_count": 70,
   "metadata": {},
   "outputs": [
    {
     "data": {
      "text/plain": [
       "[]"
      ]
     },
     "execution_count": 70,
     "metadata": {},
     "output_type": "execute_result"
    }
   ],
   "source": [
    "MBM_searches"
   ]
  },
  {
   "cell_type": "code",
   "execution_count": 73,
   "metadata": {},
   "outputs": [],
   "source": [
    "from datetime import datetime\n",
    "\n",
    "MBM_searches = []\n",
    "\n",
    "for chunk in df_search:\n",
    "        chunk['Date'] = pd.to_datetime(chunk['Date'])\n",
    "        chunk['Date_new'] = chunk['Date'].dt.to_period('M')\n",
    "        chunk = chunk[(chunk['Destination'].isin(['MAD','BCN', 'AGP']))]\n",
    "        \n",
    "        MBM_searches.append(chunk)\n",
    "\n",
    "MBM_searches_full = pd.concat(MBM_searches, axis= 0)\n",
    "\n",
    "grouped = MBM_searches_full.groupby(['Destination', 'Date_new']).count()\n",
    "grouped.drop('Date', axis=1, inplace=True)"
   ]
  },
  {
   "cell_type": "code",
   "execution_count": 86,
   "metadata": {},
   "outputs": [
    {
     "data": {
      "image/png": "[encoded data removed]",
      "text/plain": [
       "<Figure size 720x576 with 1 Axes>"
      ]
     },
     "metadata": {
      "needs_background": "light"
     },
     "output_type": "display_data"
    }
   ],
   "source": [
    "fig, ax = plt.subplots(figsize=(10, 8))\n",
    "grouped.loc['MAD'].plot(ax=ax, label='MAD')\n",
    "grouped.loc['BCN'].plot(ax=ax).set_label('MAD')\n",
    "grouped.loc['AGP'].plot(ax=ax).set_label('MAD')\n",
    "plt.legend(['Madrid', 'Barcelona', 'Malaga'])\n",
    "plt.show()"
   ]
  },
  {
   "cell_type": "markdown",
   "metadata": {},
   "source": [
    "# Exercise 4\n",
    "Match searches with bookings\n",
    "\n",
    "• For every search in the searches file, find out whether\n",
    "the search ended up in a booking or not (using the info\n",
    "in the bookings file). For instance, search and booking\n",
    "origin and destination should match.\n",
    "\n",
    "• For the bookings file, origin and destination are the\n",
    "columns dep_port and arr_port, respectively.\n",
    "\n",
    "• Generate a CSV file with the search data, and an\n",
    "additional field, containing 1 if the search ended up in\n",
    "a booking, and 0 otherwise."
   ]
  },
  {
   "cell_type": "code",
   "execution_count": null,
   "metadata": {},
   "outputs": [],
   "source": [
    "# bookings --> dep port, arr port \n",
    "# searches --> Origin, Destination"
   ]
  },
  {
   "cell_type": "markdown",
   "metadata": {},
   "source": [
    "# Exercise 5\n",
    "\n",
    "Write a Web Service\n",
    "\n",
    "• Wrap the output of the second exercise in a\n",
    "web service that returns the data in JSON\n",
    "format (instead of printing to the standard\n",
    "output).\n",
    "\n",
    "• The web service should accept a parameter\n",
    "n>0. For the top 10 airports, n is 10. For the X\n",
    "top airports, n is X "
   ]
  },
  {
   "cell_type": "markdown",
   "metadata": {},
   "source": []
  }
 ],
 "metadata": {
  "kernelspec": {
   "display_name": "Python 3.8.11 ('base')",
   "language": "python",
   "name": "python3"
  },
  "language_info": {
   "codemirror_mode": {
    "name": "ipython",
    "version": 3
   },
   "file_extension": ".py",
   "mimetype": "text/x-python",
   "name": "python",
   "nbconvert_exporter": "python",
   "pygments_lexer": "ipython3",
   "version": "3.8.11"
  },
  "orig_nbformat": 4,
  "vscode": {
   "interpreter": {
    "hash": "c075f103e7c276ca48d822f65aaf26d061d348a1c4207bbc1b02981810eef0d1"
   }
  }
 },
 "nbformat": 4,
 "nbformat_minor": 2
}
