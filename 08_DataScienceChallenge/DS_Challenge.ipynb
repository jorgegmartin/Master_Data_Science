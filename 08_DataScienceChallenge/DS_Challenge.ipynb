{
 "cells": [
  {
   "cell_type": "markdown",
   "metadata": {},
   "source": [
    "# Import dependancies"
   ]
  },
  {
   "cell_type": "code",
   "execution_count": 1,
   "metadata": {},
   "outputs": [],
   "source": [
    "import pandas as pd\n",
    "import numpy as np\n",
    "import seaborn as sns\n",
    "import matplotlib.pyplot as plt\n",
    "import bz2\n",
    "\n",
    "import neobase as nb\n",
    "\n",
    "import os\n",
    "os.environ[\"KMP_DUPLICATE_LIB_OK\"]=\"TRUE\""
   ]
  },
  {
   "cell_type": "code",
   "execution_count": 2,
   "metadata": {},
   "outputs": [],
   "source": [
    "# windows file paths\n",
    "#bookings_path = r'../../../data/challenge/bookings.csv.bz2'\n",
    "#searches_path = r'../../../data/challenge/searches.csv.bz2'\n",
    "# linux file paths\n",
    "bookings_path = '../../data/challenge/bookings.csv.bz2'\n",
    "searches_path = '../../data/challenge/searches.csv.bz2'"
   ]
  },
  {
   "cell_type": "markdown",
   "metadata": {},
   "source": [
    "Since bookings file is 4.4Gb, we could use a sample to explore the data."
   ]
  },
  {
   "cell_type": "code",
   "execution_count": 3,
   "metadata": {},
   "outputs": [],
   "source": [
    "sample = pd.read_csv(bookings_path, compression='bz2', sep= '^', header=0, nrows = 100_000)\n",
    "sample.to_csv('../../data/challenge/sample.csv', index=False)"
   ]
  },
  {
   "cell_type": "markdown",
   "metadata": {},
   "source": [
    "# Explore the data available"
   ]
  },
  {
   "cell_type": "code",
   "execution_count": 4,
   "metadata": {},
   "outputs": [
    {
     "data": {
      "text/plain": [
       "Index(['act_date           ', 'source', 'pos_ctry', 'pos_iata', 'pos_oid  ',\n",
       "       'rloc          ', 'cre_date           ', 'duration', 'distance',\n",
       "       'dep_port', 'dep_city', 'dep_ctry', 'arr_port', 'arr_city', 'arr_ctry',\n",
       "       'lst_port', 'lst_city', 'lst_ctry', 'brd_port', 'brd_city', 'brd_ctry',\n",
       "       'off_port', 'off_city', 'off_ctry', 'mkt_port', 'mkt_city', 'mkt_ctry',\n",
       "       'intl', 'route          ', 'carrier', 'bkg_class', 'cab_class',\n",
       "       'brd_time           ', 'off_time           ', 'pax', 'year', 'month',\n",
       "       'oid      '],\n",
       "      dtype='object')"
      ]
     },
     "execution_count": 4,
     "metadata": {},
     "output_type": "execute_result"
    }
   ],
   "source": [
    "sample_path = '../../data/challenge/sample.csv'\n",
    "sample = pd.read_csv(sample_path)\n",
    "sample.columns"
   ]
  },
  {
   "cell_type": "markdown",
   "metadata": {},
   "source": [
    "Some columns seem to have a indefinite amount of white spaces."
   ]
  },
  {
   "cell_type": "code",
   "execution_count": 5,
   "metadata": {},
   "outputs": [
    {
     "data": {
      "text/plain": [
       "Index(['act_date', 'source', 'pos_ctry', 'pos_iata', 'pos_oid', 'rloc',\n",
       "       'cre_date', 'duration', 'distance', 'dep_port', 'dep_city', 'dep_ctry',\n",
       "       'arr_port', 'arr_city', 'arr_ctry', 'lst_port', 'lst_city', 'lst_ctry',\n",
       "       'brd_port', 'brd_city', 'brd_ctry', 'off_port', 'off_city', 'off_ctry',\n",
       "       'mkt_port', 'mkt_city', 'mkt_ctry', 'intl', 'route', 'carrier',\n",
       "       'bkg_class', 'cab_class', 'brd_time', 'off_time', 'pax', 'year',\n",
       "       'month', 'oid'],\n",
       "      dtype='object')"
      ]
     },
     "execution_count": 5,
     "metadata": {},
     "output_type": "execute_result"
    }
   ],
   "source": [
    "sample.columns = [col.strip() for col in sample.columns]\n",
    "sample.columns"
   ]
  },
  {
   "cell_type": "markdown",
   "metadata": {},
   "source": [
    "We could also get rid of he spaces in some columns using loc"
   ]
  },
  {
   "cell_type": "code",
   "execution_count": 6,
   "metadata": {},
   "outputs": [],
   "source": [
    "sample.loc[:,'arr_port'] = sample['arr_port'].str.strip()"
   ]
  },
  {
   "cell_type": "markdown",
   "metadata": {},
   "source": [
    "Or we could rename all columns using a dictionary."
   ]
  },
  {
   "cell_type": "code",
   "execution_count": 7,
   "metadata": {},
   "outputs": [],
   "source": [
    "new_cols = {}\n",
    "for col in sample.columns:\n",
    "    new_cols[col] = col.strip()\n",
    "sample = sample.rename(new_cols, axis=1)"
   ]
  },
  {
   "cell_type": "markdown",
   "metadata": {},
   "source": [
    "# Exercise 1\n",
    "\n",
    "Count the number of lines in python for each file"
   ]
  },
  {
   "cell_type": "markdown",
   "metadata": {},
   "source": [
    "In order to do it as fast as possible we can select one column to count all lines."
   ]
  },
  {
   "cell_type": "markdown",
   "metadata": {},
   "source": [
    "bookings_lenght = len(pd.read_csv(\n",
    "                                  bookings_path,\n",
    "                                  compression='bz2', \n",
    "                                  sep= '^', \n",
    "                                  header=0, \n",
    "                                  usecols=['pax'], \n",
    "                                  ))\n",
    "print(f'Bookings.csv has {bookings_lenght} lines.')"
   ]
  },
  {
   "cell_type": "markdown",
   "metadata": {},
   "source": [
    "searches = pd.read_csv(\n",
    "                       searches_path,\n",
    "                       compression='bz2', \n",
    "                       sep= '^', \n",
    "                       header=0,\n",
    "                       nrows=10\n",
    "                       )\n",
    "searches.columns"
   ]
  },
  {
   "cell_type": "markdown",
   "metadata": {},
   "source": [
    "searches_lenght = len(pd.read_csv(\n",
    "                                searches_path,\n",
    "                                compression='bz2', \n",
    "                                sep= '^', \n",
    "                                header=0, \n",
    "                                usecols=['Date'],\n",
    "                                ))\n",
    "print(f'searches.csv has {searches_lenght} lines.')"
   ]
  },
  {
   "cell_type": "markdown",
   "metadata": {},
   "source": [
    "# Exercise 2\n",
    "\n",
    "Top 10 arrival airports in the world in 2013 (using the bookings file)\n",
    "\n",
    "• Arrival airport is the column **arr_port**. It is the IATA code for the airport\n",
    "\n",
    "• To get the total number of passengers for an airport, you can *sum* the column\n",
    "**pax**, grouping by **arr_port**. Note that there is negative pax. That corresponds to\n",
    "cancelations. So to get the total number of passengers that have actually\n",
    "booked, you should sum including the negatives (that will remove the canceled\n",
    "bookings).\n",
    "\n",
    "• Print the top 10 arrival airports in the standard output, including the number of\n",
    "passengers.\n",
    "\n",
    "• Bonus point: Get the name of the city or airport corresponding to that airport\n",
    "(programatically, we suggest to have a look at GeoBases in Github)\n",
    "\n",
    "• Bonus point: Solve this problem using pandas (instead of any other approach)"
   ]
  },
  {
   "cell_type": "code",
   "execution_count": 8,
   "metadata": {},
   "outputs": [],
   "source": [
    "df_full = pd.read_csv(\n",
    "                     bookings_path,\n",
    "                     compression='bz2', \n",
    "                     sep= '^', \n",
    "                     header=0, \n",
    "                     usecols=['arr_port', 'pax', 'year'], \n",
    "                     #nrows = 100000\n",
    "                     chunksize=100_000 # con este parametro se convierte en un iterador\n",
    "                    )"
   ]
  },
  {
   "cell_type": "code",
   "execution_count": 9,
   "metadata": {},
   "outputs": [
    {
     "name": "stdout",
     "output_type": "stream",
     "text": [
      "100000\n"
     ]
    }
   ],
   "source": [
    "with df_full as df_iter:\n",
    "    for chunk in df_full:\n",
    "        print(len(chunk))\n",
    "        break"
   ]
  },
  {
   "cell_type": "markdown",
   "metadata": {},
   "source": [
    "Once we have a valid loop over the full data set, and a way to look for the top airports let's look at the full data."
   ]
  },
  {
   "cell_type": "code",
   "execution_count": null,
   "metadata": {},
   "outputs": [
    {
     "ename": "",
     "evalue": "",
     "output_type": "error",
     "traceback": [
      "\u001b[1;31mCanceled future for execute_request message before replies were done"
     ]
    },
    {
     "ename": "",
     "evalue": "",
     "output_type": "error",
     "traceback": [
      "\u001b[1;31mThe Kernel crashed while executing code in the the current cell or a previous cell. Please review the code in the cell(s) to identify a possible cause of the failure. Click <a href='https://aka.ms/vscodeJupyterKernelCrash'>here</a> for more info. View Jupyter <a href='command:jupyter.viewOutput'>log</a> for further details."
     ]
    }
   ],
   "source": [
    "top_airports = []\n",
    "i=0\n",
    "with df_full as df_iter:\n",
    "    for chunk in df_full:\n",
    "        top_chunk = chunk.groupby('arr_port')['pax'].sum().reset_index().sort_values(by='pax', ascending=False)\n",
    "        top_airports = top_airports.append(top_chunk)"
   ]
  },
  {
   "cell_type": "code",
   "execution_count": 68,
   "metadata": {},
   "outputs": [
    {
     "data": {
      "text/plain": [
       "[]"
      ]
     },
     "execution_count": 68,
     "metadata": {},
     "output_type": "execute_result"
    }
   ],
   "source": [
    "top_airports"
   ]
  },
  {
   "cell_type": "code",
   "execution_count": null,
   "metadata": {},
   "outputs": [],
   "source": [
    "chunk.groupby('arr_port')['pax'].sum().reset_index().sort_values(by='pax', ascending=False).head(10)"
   ]
  },
  {
   "cell_type": "code",
   "execution_count": 10,
   "metadata": {},
   "outputs": [
    {
     "data": {
      "text/plain": [
       "101"
      ]
     },
     "execution_count": 10,
     "metadata": {},
     "output_type": "execute_result"
    }
   ],
   "source": [
    "len(top_airports)"
   ]
  },
  {
   "cell_type": "code",
   "execution_count": 7,
   "metadata": {},
   "outputs": [
    {
     "ename": "AttributeError",
     "evalue": "'list' object has no attribute 'groupby'",
     "output_type": "error",
     "traceback": [
      "\u001b[0;31m---------------------------------------------------------------------------\u001b[0m",
      "\u001b[0;31mAttributeError\u001b[0m                            Traceback (most recent call last)",
      "\u001b[1;32m/home/dsc/Master_Data_Science_Notebooks/08_DataScienceChallenge/DS_Challenge.ipynb Cell 25'\u001b[0m in \u001b[0;36m<cell line: 1>\u001b[0;34m()\u001b[0m\n\u001b[0;32m----> <a href='vscode-notebook-cell:/home/dsc/Master_Data_Science_Notebooks/08_DataScienceChallenge/DS_Challenge.ipynb#ch0000052?line=0'>1</a>\u001b[0m top_airports\u001b[39m.\u001b[39;49mgroupby(\u001b[39m'\u001b[39m\u001b[39marr_port\u001b[39m\u001b[39m'\u001b[39m)[\u001b[39m'\u001b[39m\u001b[39mpax\u001b[39m\u001b[39m'\u001b[39m]\u001b[39m.\u001b[39msum()\u001b[39m.\u001b[39mreset_index()\u001b[39m.\u001b[39msort_values(by\u001b[39m=\u001b[39m\u001b[39m'\u001b[39m\u001b[39mpax\u001b[39m\u001b[39m'\u001b[39m, ascending\u001b[39m=\u001b[39m\u001b[39mFalse\u001b[39;00m)\u001b[39m.\u001b[39mhead(\u001b[39m10\u001b[39m)\n",
      "\u001b[0;31mAttributeError\u001b[0m: 'list' object has no attribute 'groupby'"
     ]
    }
   ],
   "source": [
    "top_airports.groupby('arr_port')['pax'].sum().reset_index().sort_values(by='pax', ascending=False).head(10)"
   ]
  },
  {
   "cell_type": "markdown",
   "metadata": {},
   "source": [
    "https://pypi.org/project/GeoBases/"
   ]
  },
  {
   "cell_type": "code",
   "execution_count": null,
   "metadata": {},
   "outputs": [],
   "source": []
  },
  {
   "cell_type": "markdown",
   "metadata": {},
   "source": [
    "# Exercise 3\n",
    "\n",
    "Plot the monthly number of searches for flights arriving at Málaga, Madrid or Barcelona\n",
    "\n",
    "• For the arriving airport, you can use the\n",
    "Destination column in the searches file.\n",
    "\n",
    "• Plot a curve for Málaga, another one for\n",
    "Madrid, and another one for Barcelona, in\n",
    "the same figure.\n",
    "\n",
    "• Bonus point: Solving this problem using\n",
    "pandas (instead of any other approach)"
   ]
  },
  {
   "cell_type": "code",
   "execution_count": null,
   "metadata": {},
   "outputs": [],
   "source": []
  },
  {
   "cell_type": "markdown",
   "metadata": {},
   "source": [
    "# Exercise 4\n",
    "Match searches with bookings\n",
    "\n",
    "• For every search in the searches file, find out whether\n",
    "the search ended up in a booking or not (using the info\n",
    "in the bookings file). For instance, search and booking\n",
    "origin and destination should match.\n",
    "\n",
    "• For the bookings file, origin and destination are the\n",
    "columns dep_port and arr_port, respectively.\n",
    "\n",
    "• Generate a CSV file with the search data, and an\n",
    "additional field, containing 1 if the search ended up in\n",
    "a booking, and 0 otherwise."
   ]
  },
  {
   "cell_type": "code",
   "execution_count": null,
   "metadata": {},
   "outputs": [],
   "source": []
  },
  {
   "cell_type": "markdown",
   "metadata": {},
   "source": [
    "# Exercise 5\n",
    "\n",
    "Write a Web Service\n",
    "\n",
    "• Wrap the output of the second exercise in a\n",
    "web service that returns the data in JSON\n",
    "format (instead of printing to the standard\n",
    "output).\n",
    "\n",
    "• The web service should accept a parameter\n",
    "n>0. For the top 10 airports, n is 10. For the X\n",
    "top airports, n is X "
   ]
  },
  {
   "cell_type": "markdown",
   "metadata": {},
   "source": []
  }
 ],
 "metadata": {
  "kernelspec": {
   "display_name": "Python 3.8.11 ('base')",
   "language": "python",
   "name": "python3"
  },
  "language_info": {
   "codemirror_mode": {
    "name": "ipython",
    "version": 3
   },
   "file_extension": ".py",
   "mimetype": "text/x-python",
   "name": "python",
   "nbconvert_exporter": "python",
   "pygments_lexer": "ipython3",
   "version": "3.8.11"
  },
  "orig_nbformat": 4,
  "vscode": {
   "interpreter": {
    "hash": "c075f103e7c276ca48d822f65aaf26d061d348a1c4207bbc1b02981810eef0d1"
   }
  }
 },
 "nbformat": 4,
 "nbformat_minor": 2
}
